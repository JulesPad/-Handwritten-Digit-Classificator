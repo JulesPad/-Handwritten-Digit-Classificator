{
 "cells": [
  {
   "cell_type": "code",
   "execution_count": 3,
   "id": "2f910c4d",
   "metadata": {},
   "outputs": [],
   "source": [
    "from fastai.vision.all import * # immporting the vision componants of FastAI"
   ]
  },
  {
   "cell_type": "code",
   "execution_count": 5,
   "id": "5e6d9680",
   "metadata": {},
   "outputs": [],
   "source": [
    "path = untar_data(URLs.MNIST) # download and add the data to the path"
   ]
  },
  {
   "cell_type": "code",
   "execution_count": 7,
   "id": "593bb608",
   "metadata": {},
   "outputs": [],
   "source": [
    "Path.BASE_PATH = path #define our path as the BASE PATH"
   ]
  },
  {
   "cell_type": "code",
   "execution_count": 8,
   "id": "fa5138aa",
   "metadata": {},
   "outputs": [
    {
     "data": {
      "text/plain": [
       "(#10) [Path('training/1'),Path('training/3'),Path('training/9'),Path('training/0'),Path('training/2'),Path('training/7'),Path('training/4'),Path('training/8'),Path('training/5'),Path('training/6')]"
      ]
     },
     "execution_count": 8,
     "metadata": {},
     "output_type": "execute_result"
    }
   ],
   "source": [
    "(path/\"training\").ls() #checking our dataset's structure"
   ]
  },
  {
   "cell_type": "code",
   "execution_count": 11,
   "id": "57ae5a5d",
   "metadata": {},
   "outputs": [],
   "source": [
    "block=DataBlock(\n",
    "blocks=(ImageBlock, CategoryBlock),\n",
    "get_items=get_image_files,\n",
    "splitter=RandomSplitter(valid_pct=0.2,seed=42),\n",
    "get_y=parent_label,\n",
    "batch_tfms=aug_transforms(mult=2.,do_flip=False))\n",
    "\n",
    "#creation of the DataBlock, \n",
    "#here we're defining how to access files \n",
    "#how to split the data to create a training and validation data\n",
    "#how to get labels\n",
    "#and the transformation that we're doing on our data (to avoid overfitting)"
   ]
  },
  {
   "cell_type": "code",
   "execution_count": 13,
   "id": "ef384008",
   "metadata": {},
   "outputs": [
    {
     "name": "stderr",
     "output_type": "stream",
     "text": [
      "/home/jules/miniconda3/lib/python3.9/site-packages/torch/_tensor.py:1051: UserWarning: torch.solve is deprecated in favor of torch.linalg.solveand will be removed in a future PyTorch release.\n",
      "torch.linalg.solve has its arguments reversed and does not return the LU factorization.\n",
      "To get the LU factorization see torch.lu, which can be used with torch.lu_solve or torch.lu_unpack.\n",
      "X = torch.solve(B, A).solution\n",
      "should be replaced with\n",
      "X = torch.linalg.solve(A, B) (Triggered internally at  ../aten/src/ATen/native/BatchLinearAlgebra.cpp:766.)\n",
      "  ret = func(*args, **kwargs)\n"
     ]
    }
   ],
   "source": [
    "loaders=block.dataloaders(path/\"training\") #here we're creating a loader to load the data in our model"
   ]
  },
  {
   "cell_type": "code",
   "execution_count": 14,
   "id": "5a47ca1d",
   "metadata": {},
   "outputs": [],
   "source": [
    "learn=cnn_learner(loaders, resnet18, pretrained=False,metrics=accuracy)\n",
    "#here we're defining our learner, I will use an untrained (without weights, only layers of neurons)resnet 18 "
   ]
  },
  {
   "cell_type": "code",
   "execution_count": 15,
   "id": "89b4186b",
   "metadata": {},
   "outputs": [
    {
     "data": {
      "text/html": [],
      "text/plain": [
       "<IPython.core.display.HTML object>"
      ]
     },
     "metadata": {},
     "output_type": "display_data"
    },
    {
     "data": {
      "text/plain": [
       "SuggestedLRs(valley=0.0006918309954926372)"
      ]
     },
     "execution_count": 15,
     "metadata": {},
     "output_type": "execute_result"
    },
    {
     "data": {
      "image/png": "[encoded data removed]",
      "text/plain": [
       "<Figure size 432x288 with 1 Axes>"
      ]
     },
     "metadata": {
      "needs_background": "light"
     },
     "output_type": "display_data"
    }
   ],
   "source": [
    "learn.lr_find() #pretraining the beggining of our model to find the right learning rate"
   ]
  },
  {
   "cell_type": "code",
   "execution_count": 16,
   "id": "e7d89309",
   "metadata": {},
   "outputs": [
    {
     "data": {
      "text/html": [
       "<table border=\"1\" class=\"dataframe\">\n",
       "  <thead>\n",
       "    <tr style=\"text-align: left;\">\n",
       "      <th>epoch</th>\n",
       "      <th>train_loss</th>\n",
       "      <th>valid_loss</th>\n",
       "      <th>accuracy</th>\n",
       "      <th>time</th>\n",
       "    </tr>\n",
       "  </thead>\n",
       "  <tbody>\n",
       "    <tr>\n",
       "      <td>0</td>\n",
       "      <td>0.401777</td>\n",
       "      <td>0.152752</td>\n",
       "      <td>0.955333</td>\n",
       "      <td>00:23</td>\n",
       "    </tr>\n",
       "    <tr>\n",
       "      <td>1</td>\n",
       "      <td>0.321743</td>\n",
       "      <td>0.231240</td>\n",
       "      <td>0.940250</td>\n",
       "      <td>00:23</td>\n",
       "    </tr>\n",
       "    <tr>\n",
       "      <td>2</td>\n",
       "      <td>0.207719</td>\n",
       "      <td>0.116820</td>\n",
       "      <td>0.967583</td>\n",
       "      <td>00:22</td>\n",
       "    </tr>\n",
       "    <tr>\n",
       "      <td>3</td>\n",
       "      <td>0.173420</td>\n",
       "      <td>0.092863</td>\n",
       "      <td>0.973083</td>\n",
       "      <td>00:22</td>\n",
       "    </tr>\n",
       "    <tr>\n",
       "      <td>4</td>\n",
       "      <td>0.115510</td>\n",
       "      <td>0.051636</td>\n",
       "      <td>0.987167</td>\n",
       "      <td>00:22</td>\n",
       "    </tr>\n",
       "    <tr>\n",
       "      <td>5</td>\n",
       "      <td>0.102679</td>\n",
       "      <td>0.058895</td>\n",
       "      <td>0.983083</td>\n",
       "      <td>00:22</td>\n",
       "    </tr>\n",
       "    <tr>\n",
       "      <td>6</td>\n",
       "      <td>0.079733</td>\n",
       "      <td>0.049735</td>\n",
       "      <td>0.985167</td>\n",
       "      <td>00:22</td>\n",
       "    </tr>\n",
       "    <tr>\n",
       "      <td>7</td>\n",
       "      <td>0.071158</td>\n",
       "      <td>0.032919</td>\n",
       "      <td>0.990667</td>\n",
       "      <td>00:22</td>\n",
       "    </tr>\n",
       "    <tr>\n",
       "      <td>8</td>\n",
       "      <td>0.051153</td>\n",
       "      <td>0.024100</td>\n",
       "      <td>0.993167</td>\n",
       "      <td>00:22</td>\n",
       "    </tr>\n",
       "    <tr>\n",
       "      <td>9</td>\n",
       "      <td>0.038354</td>\n",
       "      <td>0.021350</td>\n",
       "      <td>0.994250</td>\n",
       "      <td>00:26</td>\n",
       "    </tr>\n",
       "    <tr>\n",
       "      <td>10</td>\n",
       "      <td>0.028671</td>\n",
       "      <td>0.020001</td>\n",
       "      <td>0.994333</td>\n",
       "      <td>01:04</td>\n",
       "    </tr>\n",
       "    <tr>\n",
       "      <td>11</td>\n",
       "      <td>0.033082</td>\n",
       "      <td>0.019063</td>\n",
       "      <td>0.995083</td>\n",
       "      <td>00:39</td>\n",
       "    </tr>\n",
       "  </tbody>\n",
       "</table>"
      ],
      "text/plain": [
       "<IPython.core.display.HTML object>"
      ]
     },
     "metadata": {},
     "output_type": "display_data"
    }
   ],
   "source": [
    "learn.fit_one_cycle(12, 6e-3) #change the second value (lr) based on the number that you got using lr_find"
   ]
  },
  {
   "cell_type": "code",
   "execution_count": 25,
   "id": "2fad4700",
   "metadata": {},
   "outputs": [
    {
     "data": {
      "text/html": [],
      "text/plain": [
       "<IPython.core.display.HTML object>"
      ]
     },
     "metadata": {},
     "output_type": "display_data"
    },
    {
     "data": {
      "image/png": "[encoded data removed]",
      "text/plain": [
       "<Figure size 648x648 with 9 Axes>"
      ]
     },
     "metadata": {
      "needs_background": "light"
     },
     "output_type": "display_data"
    }
   ],
   "source": [
    "learn.show_results() #let's take a lok at the results "
   ]
  },
  {
   "cell_type": "code",
   "execution_count": 30,
   "id": "63339c26",
   "metadata": {},
   "outputs": [],
   "source": [
    "learn.export() #use this to export the modified model"
   ]
  }
 ],
 "metadata": {
  "kernelspec": {
   "display_name": "Python [conda env:root] *",
   "language": "python",
   "name": "conda-root-py"
  },
  "language_info": {
   "codemirror_mode": {
    "name": "ipython",
    "version": 3
   },
   "file_extension": ".py",
   "mimetype": "text/x-python",
   "name": "python",
   "nbconvert_exporter": "python",
   "pygments_lexer": "ipython3",
   "version": "3.9.5"
  }
 },
 "nbformat": 4,
 "nbformat_minor": 5
}
